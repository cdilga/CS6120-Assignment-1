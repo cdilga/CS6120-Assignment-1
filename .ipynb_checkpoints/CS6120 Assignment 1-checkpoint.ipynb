{
 "cells": [
  {
   "cell_type": "markdown",
   "metadata": {},
   "source": [
    "# Naive Bayes Document Classification\n",
    "\n",
    "We must compute several values, \n",
    "\n",
    "Priors:\n",
    "\n",
    "$P(c)=\\frac{N_c}{N}$\n",
    "where $N_c$ is just number of documents with class and $N$ number of documents\n",
    "\n",
    "We will calculate the conditional probabilities of each word in the document. For the purposes of this calculation we will not calculate conditional probabilities for every single word, but only the words in D1 and D2\n",
    "\n",
    "Using $$P(w|c)=\\frac{count(w,c)+\\lambda}{count(c)+|V|\\cdot \\lambda}$$\n",
    "Using $\\lambda = 0.1$\n",
    "Example calculation:\n",
    "\n",
    "\n",
    "$P(rose|vegetable)=\\frac{0+0.1}{8+7\\cdot 0.1}$\n",
    "Other calculations outlined below\n",
    "\n",
    "We then find the maximum probablity of a document being in a class by using\n",
    "Where $c$ is class and $d$ document\n",
    "$P(c|d)=P(c) \\cdot \\prod_i^n{P(d_i|c)}$\n",
    "\n",
    "Example calculation:\n",
    "$P(flower|D1)=P(flower) \\cdot P(rose|flower) \\cdot P(lily|flower) \\cdot P(apple|flower) \\cdot P(carrot|flower)$\n",
    "\n"
   ]
  },
  {
   "cell_type": "code",
   "execution_count": 84,
   "metadata": {},
   "outputs": [
    {
     "name": "stdout",
     "output_type": "stream",
     "text": [
      "D1_flower 7.985671244629444e-07\n",
      "D1_fruit 2.490268929586247e-05\n",
      "D1_vegetable 5.732867232465228e-08\n"
     ]
    }
   ],
   "source": [
    "def p(wc, c, v, l=0.1):\n",
    "    return (wc + l)/(c + v * l)\n",
    "\n",
    "P={}\n",
    "\n",
    "P[('rose', 'vegetable')] = p(0, 8, 7)\n",
    "P[('lily', 'vegetable')] = p(0, 8, 2)\n",
    "P[('apple', 'vegetable')] = p(0, 8, 2)\n",
    "P[('carrot', 'vegetable')] = p(1, 8, 2)\n",
    "\n",
    "P[('rose', 'flower')] = p(6, 13, 7)\n",
    "P[('lily', 'flower')] = p(1, 13, 2)\n",
    "P[('apple', 'flower')] = p(0, 13, 2)\n",
    "P[('carrot', 'flower')] = p(0, 13, 2)\n",
    "\n",
    "P[('rose', 'fruit')] = p(1, 14, 7)\n",
    "P[('lily', 'fruit')] = p(1, 14, 2)\n",
    "P[('apple', 'fruit')] = p(2, 14, 2)\n",
    "P[('carrot', 'fruit')] = p(1, 14, 2)\n",
    "\n",
    "#Priors\n",
    "P['vegetable'] = 1/4\n",
    "P['flower'] = 3/8\n",
    "P['fruit'] = 3/8\n",
    "\n",
    "D1_flower = P['flower']*P[('rose', 'flower')]*P[('lily', 'flower')]*P[('apple', 'flower')]*P[('carrot', 'flower')]\n",
    "print(\"D1_flower\", D1_flower)\n",
    "D1_fruit = P['fruit']*P[('rose', 'fruit')]*P[('lily', 'fruit')]*P[('apple', 'fruit')]*P[('carrot', 'fruit')]\n",
    "print(\"D1_fruit\", D1_fruit)\n",
    "D1_vegetable = P['vegetable']*P[('rose', 'vegetable')]*P[('lily', 'vegetable')]*P[('apple', 'vegetable')]*P[('carrot', 'vegetable')]\n",
    "print(\"D1_vegetable\", D1_vegetable)"
   ]
  },
  {
   "cell_type": "markdown",
   "metadata": {},
   "source": [
    "We take the argmax of these values and find that the fruit class is the most probable.\n",
    "\n",
    "Similarly for D2"
   ]
  },
  {
   "cell_type": "code",
   "execution_count": 86,
   "metadata": {},
   "outputs": [
    {
     "name": "stdout",
     "output_type": "stream",
     "text": [
      "D2_flower 1.47219552641001e-07\n",
      "D2_fruit 2.1008472857159783e-07\n",
      "D2_vegetable 2.618107011591733e-05\n"
     ]
    }
   ],
   "source": [
    "P[('pea', 'vegetable')] = p(2, 8, 3)\n",
    "P[('lotus', 'vegetable')] = p(1, 8, 2)\n",
    "P[('grape', 'vegetable')] = p(0, 8, 2)\n",
    "\n",
    "P[('pea', 'flower')] = p(1, 13, 3)\n",
    "P[('lotus', 'flower')] = p(0, 13, 2)\n",
    "P[('grape', 'flower')] = p(0, 13, 2)\n",
    "\n",
    "P[('pea', 'fruit')] = p(0, 14, 3)\n",
    "P[('lotus', 'fruit')] = p(1, 14, 2)\n",
    "P[('grape', 'fruit')] = p(2, 14, 2)\n",
    "\n",
    "D2_flower = P['flower']*(P[('pea', 'flower')]**2)*P[('lotus', 'flower')]*P[('grape', 'flower')]\n",
    "print(\"D2_flower\", D2_flower)\n",
    "D2_fruit = P['fruit']*(P[('pea', 'fruit')]**2)*P[('lotus', 'fruit')]*P[('grape', 'fruit')]\n",
    "print(\"D2_fruit\", D2_fruit)\n",
    "D2_vegetable = P['vegetable']*(P[('pea', 'vegetable')]**2)*P[('lotus', 'vegetable')]*P[('grape', 'vegetable')]\n",
    "print(\"D2_vegetable\", D2_vegetable)"
   ]
  },
  {
   "cell_type": "markdown",
   "metadata": {},
   "source": [
    "We find that D2 is classed as vegetable"
   ]
  },
  {
   "cell_type": "code",
   "execution_count": null,
   "metadata": {},
   "outputs": [],
   "source": []
  }
 ],
 "metadata": {
  "kernelspec": {
   "display_name": "Python 3",
   "language": "python",
   "name": "python3"
  },
  "language_info": {
   "codemirror_mode": {
    "name": "ipython",
    "version": 3
   },
   "file_extension": ".py",
   "mimetype": "text/x-python",
   "name": "python",
   "nbconvert_exporter": "python",
   "pygments_lexer": "ipython3",
   "version": "3.6.5"
  }
 },
 "nbformat": 4,
 "nbformat_minor": 2
}
